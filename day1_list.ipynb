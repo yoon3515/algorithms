{
 "cells": [
  {
   "attachments": {},
   "cell_type": "markdown",
   "metadata": {},
   "source": [
    "# 자료구조"
   ]
  },
  {
   "attachments": {},
   "cell_type": "markdown",
   "metadata": {},
   "source": [
    "## 1. 선형  "
   ]
  },
  {
   "attachments": {},
   "cell_type": "markdown",
   "metadata": {},
   "source": [
    "### 1. 선형리스트 (= 순차리스트)\n",
    "- 배열\n",
    "- 빈틈없이 붙어있는것이라고 생각하면 됨 \n",
    "- 장점 : 공간절약(연결과 달리 링크가 없기때문), 전체를 접근하기에 빠름 \n",
    "- 단점 : 데이터 삽입 / 삭제시 오버헤드가 발생될 수 있음 \n",
    "- ex) 삽입/삭제가 필요 없는 데이터 = 시간순차적 데이터\n",
    "    - 신문기사, 고전소설 연대문"
   ]
  },
  {
   "attachments": {},
   "cell_type": "markdown",
   "metadata": {},
   "source": [
    "- 선형리스트의 원리"
   ]
  },
  {
   "cell_type": "code",
   "execution_count": 5,
   "metadata": {},
   "outputs": [
    {
     "name": "stdout",
     "output_type": "stream",
     "text": [
      "['다현', '정연', '쯔위', '사나', '지효']\n",
      "\n",
      "새로운데이터 추가 :\n",
      " ['다현', '정연', '쯔위', '사나', '지효', '모모']\n",
      "\n",
      "3등 삽입 :\n",
      " ['다현', '정연', '쯔위', '미나', '사나', '지효', '모모']\n",
      "\n",
      "4등 삭제 :\n",
      " ['다현', '정연', '쯔위', '미나', '지효', '모모']\n"
     ]
    }
   ],
   "source": [
    "### 함수 선언부\n",
    "\n",
    "### 전역 변수부\n",
    "katok = ['다현', '정연', '쯔위', '사나', '지효'] # 선형리스트\n",
    "\n",
    "\n",
    "### 메인코드부\n",
    "print(katok)\n",
    "\n",
    "## 1) 데이터 추가 : 모모자리 만들어주기 \n",
    "katok.append(None) # 모모를 추가하기 위해 \"마지막 자리\"에 빈칸 생성 \n",
    "katok[5] = '모모'\n",
    "print('\\n새로운데이터 추가 :\\n', katok) # 모모가 삽입됨\n",
    "\n",
    "\n",
    "## 2) 데이터 삽입 : 미나가 3등이 됨\n",
    "# 1단계 : 맨 끝자리에 빈칸 준비 \n",
    "katok.append(None)\n",
    "\n",
    "# 2단계 : 3등까지 친구들을 오른쪽으로 한 칸 이동시키기 <반복>\n",
    "katok[6] = katok[5] # 모모 --> 인덱스6에 5였던 모모 집어넣기\n",
    "katok[5] = None # --> 인덱스 5는 비웠으니 none 입력\n",
    "katok[5] = katok[4] # 지효 --> 빈 5등자리에 4등 집어넣기 \n",
    "katok[4] = None # --> 4등자리는 빈석\n",
    "katok[4] = katok[3] # 사나 --> 빈 4등자리에 3등이었던 사나 집어넣기 \n",
    "katok[3] = None # --> 3등은 공석으로 만들기 \n",
    "\n",
    "# 3 단계 : 빈칸(3등) 자리에 미나 삽입\n",
    "katok[3] = '미나'\n",
    "print('\\n3등 삽입 :\\n', katok)\n",
    "\n",
    "\n",
    "\n",
    "## 3) 데이터 삭제 : 4등의 사나가 카톡을 차단함 \n",
    "# 1단계 : 데이터 제거\n",
    "katok[4] = None # 4등 자리 공석으로 만들기 \n",
    "\n",
    "# 2단계 : 빈자리 없애기 위해 자리 앞당기기 \n",
    "katok[4] = katok[5] # 4등자리에 5등 앉히기\n",
    "katok[5] = None # 5등은 공석\n",
    "katok[5] = katok[6] # 5등 자리에 6등 앉히기\n",
    "katok[6] = None # 6등은 공석\n",
    "# 3단계 : 빈칸 제거\n",
    "del(katok[6]) # 남은 공석은 아예 제거하기 \n",
    "print('\\n4등 삭제 :\\n', katok)\n"
   ]
  },
  {
   "attachments": {},
   "cell_type": "markdown",
   "metadata": {},
   "source": [
    "- 배열을 이용한 선형 리스트 생성"
   ]
  },
  {
   "cell_type": "code",
   "execution_count": 10,
   "metadata": {},
   "outputs": [
    {
     "name": "stdout",
     "output_type": "stream",
     "text": [
      "['다현', '졍연', '쯔위', '사나', '지효']\n",
      "['다현', '졍연', '쯔위', '사나', '지효', '모모']\n",
      "\n",
      "데이터 중간에 삽입 \n",
      ": ['다현', '졍연', '쯔위', '미나', '사나', '지효', '모모']\n",
      "\n",
      "데이터 제거됨 :\n",
      " ['다현', '졍연', '쯔위', '미나', '지효', '모모']\n"
     ]
    }
   ],
   "source": [
    "### 변수 \n",
    "katok = []\n",
    "\n",
    "\n",
    "### 함수\n",
    "## 1) 데이터 추가하는 함수\n",
    "def add_data(friend) :\n",
    "    # 1) 빈자리 생성\n",
    "    katok.append(None) \n",
    "    # 2) 데이터 추가 \n",
    "    klen = len(katok)\n",
    "    katok[klen-1] = friend\n",
    "\n",
    "\n",
    "## 2) 리스트 중간에 데이터 삽입하기\n",
    "def insert_data(pos, friend) :\n",
    "    # 1) 빈자리 생성\n",
    "    katok.append(None)\n",
    "    # 2) 데이터 공석 만들어주기\n",
    "    klen = len(katok)\n",
    "    for i in range(klen-1, pos, -1) :\n",
    "        katok[i] = katok[i-1]\n",
    "        katok[i-1] = None\n",
    "    # 3) 데이터 삽입    \n",
    "    katok[pos] = friend\n",
    "\n",
    "\n",
    "## 3) 데이터 삭제 \n",
    "def delete_data(pos) :\n",
    "    # 1) 삭제할 데이터 자리 공석으로 만들어주기\n",
    "    katok[pos] = None\n",
    "    # 2) 뒷자리 당겨서 공석 체워주기  \n",
    "    klen = len(katok)\n",
    "    for i in range(pos, klen-1, 1) :\n",
    "        katok[i] = katok[i+1]\n",
    "        katok[i+1] = None\n",
    "        \n",
    "    # 3) 남는 공석 제거 \n",
    "    del(katok[klen-1])\n",
    "    \n",
    "    \n",
    "    \n",
    "### 메인 \n",
    "## 데이터 추가 \n",
    "add_data('다현')\n",
    "add_data('졍연')\n",
    "add_data('쯔위')\n",
    "add_data('사나')\n",
    "add_data('지효')\n",
    "print(katok)\n",
    "add_data('모모') # 한 명 더 추가 \n",
    "print(katok)\n",
    "## 데이터 삽입 \n",
    "insert_data(3, '미나')\n",
    "print('\\n데이터 중간에 삽입 \\n:', katok)\n",
    "## 데이터 제거 \n",
    "delete_data(4)\n",
    "print('\\n데이터 제거됨 :\\n', katok) # 사나가 제거됨을 알 수 있음 \n"
   ]
  },
  {
   "cell_type": "code",
   "execution_count": null,
   "metadata": {},
   "outputs": [],
   "source": []
  }
 ],
 "metadata": {
  "kernelspec": {
   "display_name": "Python 3.9.13 ('base')",
   "language": "python",
   "name": "python3"
  },
  "language_info": {
   "codemirror_mode": {
    "name": "ipython",
    "version": 3
   },
   "file_extension": ".py",
   "mimetype": "text/x-python",
   "name": "python",
   "nbconvert_exporter": "python",
   "pygments_lexer": "ipython3",
   "version": "3.9.13"
  },
  "orig_nbformat": 4,
  "vscode": {
   "interpreter": {
    "hash": "d7288e82646d3164eca24130947288f8779d11454649f2c02a5dfc42af7f324c"
   }
  }
 },
 "nbformat": 4,
 "nbformat_minor": 2
}
